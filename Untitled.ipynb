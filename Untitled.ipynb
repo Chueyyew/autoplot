{
 "cells": [
  {
   "cell_type": "code",
   "execution_count": 1,
   "id": "733fffa4-1343-4153-a83d-9b0fff534d89",
   "metadata": {},
   "outputs": [],
   "source": [
    "from functions.parser import *"
   ]
  },
  {
   "cell_type": "code",
   "execution_count": 3,
   "id": "0e1589a1-8d55-4f8d-b92c-9e70e86a0a83",
   "metadata": {},
   "outputs": [
    {
     "data": {
      "text/plain": [
       "{'0.2': ['3.84'],\n",
       " '0.25': ['3'],\n",
       " '0.3': ['2.36'],\n",
       " '0.35': ['2.08'],\n",
       " '0.4': ['1.76'],\n",
       " '0.45': ['1.56'],\n",
       " '0.5': ['1.38'],\n",
       " '0.55': ['1.26'],\n",
       " '0.6': ['1.14'],\n",
       " '0.65': ['1.02'],\n",
       " '0.7': ['0.92'],\n",
       " '0.75': ['0.88'],\n",
       " '0.8': ['0.84'],\n",
       " '0.85': ['0.8'],\n",
       " '0.9': ['0.77'],\n",
       " '0.95': ['0.71'],\n",
       " '1': ['0.65'],\n",
       " '1.05': ['0.61'],\n",
       " '1.1': ['0.58'],\n",
       " '1.15': ['0.56'],\n",
       " '1.2': ['0.55']}"
      ]
     },
     "execution_count": 3,
     "metadata": {},
     "output_type": "execute_result"
    }
   ],
   "source": [
    "readfile('target/data.csv')"
   ]
  },
  {
   "cell_type": "code",
   "execution_count": null,
   "id": "d12e54fe-ab23-4b40-8209-0e2bffc4436c",
   "metadata": {},
   "outputs": [],
   "source": []
  }
 ],
 "metadata": {
  "kernelspec": {
   "display_name": "Python 3 (ipykernel)",
   "language": "python",
   "name": "python3"
  },
  "language_info": {
   "codemirror_mode": {
    "name": "ipython",
    "version": 3
   },
   "file_extension": ".py",
   "mimetype": "text/x-python",
   "name": "python",
   "nbconvert_exporter": "python",
   "pygments_lexer": "ipython3",
   "version": "3.10.6"
  }
 },
 "nbformat": 4,
 "nbformat_minor": 5
}
